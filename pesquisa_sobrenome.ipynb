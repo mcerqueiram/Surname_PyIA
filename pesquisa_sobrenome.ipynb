{
  "nbformat": 4,
  "nbformat_minor": 0,
  "metadata": {
    "colab": {
      "provenance": [],
      "authorship_tag": "ABX9TyPOeH3tOu9nTP9M35t63LSm",
      "include_colab_link": true
    },
    "kernelspec": {
      "name": "python3",
      "display_name": "Python 3"
    },
    "language_info": {
      "name": "python"
    }
  },
  "cells": [
    {
      "cell_type": "markdown",
      "metadata": {
        "id": "view-in-github",
        "colab_type": "text"
      },
      "source": [
        "<a href=\"https://colab.research.google.com/github/mcerqueiram/Surname_PyIA/blob/main/pesquisa_sobrenome.ipynb\" target=\"_parent\"><img src=\"https://colab.research.google.com/assets/colab-badge.svg\" alt=\"Open In Colab\"/></a>"
      ]
    },
    {
      "cell_type": "code",
      "execution_count": null,
      "metadata": {
        "colab": {
          "base_uri": "https://localhost:8080/",
          "height": 490
        },
        "id": "Vft9l6vsPuC6",
        "outputId": "2c5502ef-50ec-4345-a902-34224f8663e4"
      },
      "outputs": [
        {
          "output_type": "stream",
          "name": "stdout",
          "text": [
            "Qual sobrenome você quer saber? (Digite 'fim' para sair) marques\n",
            "**Origens do Sobrenome Marques**\n",
            "\n",
            "* O sobrenome Marques tem origem em Portugal e é derivado do nome pessoal \"Marcos\", que significa \"guerreiro\" ou \"defensor\".\n",
            "\n",
            "**Brasão de Armas**\n",
            "\n",
            "* A família Marques tem um brasão de armas que apresenta um escudo vermelho com uma cruz dourada e uma borda azul. O escudo é encimado por um elmo de cavaleiro e uma coroa de ouro.\n",
            "\n",
            "**Personagens Notáveis**\n",
            "\n",
            "* **Dom Luís Marques Mendes:** Bispo de Coimbra e fundador da Universidade de Coimbra.\n",
            "* **José Alexandre Marques:** Político brasileiro que foi presidente da Câmara dos Deputados e ministro da Justiça.\n",
            "* **Manoel Marques:** Ator e humorista brasileiro conhecido por sua participação no programa \"Casseta & Planeta\".\n",
            "\n",
            "**Curiosas Coincidências**\n",
            "\n",
            "* Existem várias cidades no Brasil com o nome Marques, possivelmente fundadas por membros da família.\n",
            "* O personagem principal da série de televisão \"El Chavo del 8\" (Chaves) se chama Chaves, que é uma variação do sobrenome Marques.\n",
            "\n",
            "**Histórias Familiares**\n",
            "\n",
            "* **A Lenda do Cavaleiro Marques:** Conta-se que um cavaleiro de nome Marques lutou bravamente contra os mouros durante a Reconquista na Península Ibérica. Em reconhecimento ao seu valor, ele foi agraciado com um brasão de armas.\n",
            "* **A Viagem do Emigrante:** No século 19, muitos portugueses com o sobrenome Marques emigraram para o Brasil em busca de uma vida melhor. Eles se estabeleceram em várias regiões do país, contribuindo para a formação da cultura brasileira.\n",
            "* **A Reunião da Família:** Em 2010, uma grande reunião da família Marques foi realizada na cidade de Coimbra, em Portugal. Mais de 500 pessoas se reuniram para celebrar a história e as tradições da família.\n"
          ]
        }
      ],
      "source": [
        "# Import the Python SDK\n",
        "import google.generativeai as genai\n",
        "\n",
        "# Used to securely store your API key\n",
        "from google.colab import userdata\n",
        "\n",
        "# Configura a Chave\n",
        "GOOGLE_API_KEY= 'xxxx'\n",
        "genai.configure(api_key=GOOGLE_API_KEY)\n",
        "\n",
        "#Configura Modelo\n",
        "model = genai.GenerativeModel('gemini-pro')\n",
        "\n",
        "\n",
        "while True:\n",
        "    # Perguntar ao usuário qual sobrenome ele quer saber\n",
        "    sobrenome = input(\"Qual sobrenome você quer saber? (Digite 'fim' para sair) \")\n",
        "\n",
        "    # Check if the user wants to exit\n",
        "    if sobrenome == \"fim\":\n",
        "        break\n",
        "\n",
        "    # Passar o sobrenome para o modelo de linguagem\n",
        "    #Faz chamada a IA para ferar texto\n",
        "    response = model.generate_content(f\"Vamos conhecer mais sobre a Gernealogia da família com sobrenome {sobrenome}. Me fale curiosidades e histórias sobre.\")\n",
        "\n",
        "    # Imprimir o texto gerado pelo modelo\n",
        "    print(response.text)"
      ]
    }
  ]
}